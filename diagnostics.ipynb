{
 "cells": [
  {
   "cell_type": "markdown",
   "metadata": {},
   "source": [
    "**Extracting diagnostic information on species growth!**\n",
    "Method: \n",
    "1) TRAIN the model on all data from the census.\n",
    "2) For each species present, create a dataset where all the trees are of that one species and every DBH from 10 to 500 is represented.\n",
    "3) Use this dataset as a test set.\n",
    "4) Instead of calculating a loss function, plot the output as a function of the DBH input!"
   ]
  },
  {
   "cell_type": "code",
   "execution_count": 12,
   "metadata": {},
   "outputs": [],
   "source": [
    "import numpy as np\n",
    "import scipy as sp\n",
    "import pandas as pd\n",
    "import torch\n",
    "import torch.nn as nn\n",
    "import torch.optim as optim\n",
    "import torch.nn.functional as F\n",
    "import sklearn\n",
    "from sklearn.model_selection import train_test_split\n",
    "from sklearn.ensemble import RandomForestRegressor\n",
    "from sklearn.model_selection import RepeatedKFold\n",
    "from sklearn.model_selection import cross_val_score\n",
    "from sklearn.metrics import r2_score\n",
    "import category_encoders as ce\n",
    "import xgboost as xgb\n",
    "import matplotlib.pyplot as mpl\n",
    "import data_processing"
   ]
  },
  {
   "cell_type": "code",
   "execution_count": 13,
   "metadata": {},
   "outputs": [
    {
     "ename": "TypeError",
     "evalue": "_load_data() missing 1 required positional argument: 'quads'",
     "output_type": "error",
     "traceback": [
      "\u001b[0;31m---------------------------------------------------------------------------\u001b[0m",
      "\u001b[0;31mTypeError\u001b[0m                                 Traceback (most recent call last)",
      "Cell \u001b[0;32mIn[13], line 3\u001b[0m\n\u001b[1;32m      1\u001b[0m \u001b[39m# attempt to use data processing script!\u001b[39;00m\n\u001b[1;32m      2\u001b[0m paths \u001b[39m=\u001b[39m (\u001b[39m\"\u001b[39m\u001b[39m/Users/dylanvanbramer/indresearch/xu/deep_learning/bci_census/bci_1985.csv\u001b[39m\u001b[39m\"\u001b[39m,\u001b[39m\"\u001b[39m\u001b[39m/Users/dylanvanbramer/indresearch/xu/deep_learning/bci_census/bci_1990.csv\u001b[39m\u001b[39m\"\u001b[39m)\n\u001b[0;32m----> 3\u001b[0m feats, labels, test_ids, test_feats \u001b[39m=\u001b[39m data_processing\u001b[39m.\u001b[39;49mclean(paths)\n",
      "File \u001b[0;32m~/indresearch/xu/deep_learning/algorithm_attempts/data_processing.py:102\u001b[0m, in \u001b[0;36mclean\u001b[0;34m(file_paths, num_quads, split_prop)\u001b[0m\n\u001b[1;32m     78\u001b[0m \u001b[39mdef\u001b[39;00m \u001b[39mclean\u001b[39m(file_paths, num_quads\u001b[39m=\u001b[39m\u001b[39m4924\u001b[39m, split_prop\u001b[39m=\u001b[39m\u001b[39m0.3\u001b[39m):\n\u001b[1;32m     79\u001b[0m \u001b[39m    \u001b[39m\u001b[39m\"\"\"\u001b[39;00m\n\u001b[1;32m     80\u001b[0m \u001b[39m    Cleans the data and returns the training and testing splits required.\u001b[39;00m\n\u001b[1;32m     81\u001b[0m \n\u001b[0;32m   (...)\u001b[0m\n\u001b[1;32m    100\u001b[0m \u001b[39m       training)\u001b[39;00m\n\u001b[1;32m    101\u001b[0m \u001b[39m    \"\"\"\u001b[39;00m\n\u001b[0;32m--> 102\u001b[0m     data_t1 \u001b[39m=\u001b[39m _load_data(file_paths[\u001b[39m0\u001b[39m], num_quads)\n\u001b[1;32m    103\u001b[0m     data_t2 \u001b[39m=\u001b[39m _load_data(file_paths[\u001b[39m1\u001b[39m], num_quads)\n\u001b[1;32m    104\u001b[0m     data_t1, data_t2 \u001b[39m=\u001b[39m encode_drop_null(data_t1, data_t2)\n",
      "\u001b[0;31mTypeError\u001b[0m: _load_data() missing 1 required positional argument: 'quads'"
     ]
    }
   ],
   "source": [
    "# attempt to use data processing script!\n",
    "paths = (\"/Users/dylanvanbramer/indresearch/xu/deep_learning/bci_census/bci_1985.csv\",\"/Users/dylanvanbramer/indresearch/xu/deep_learning/bci_census/bci_1990.csv\")\n",
    "feats, labels, test_ids, test_feats = data_processing.clean(paths)\n"
   ]
  },
  {
   "cell_type": "code",
   "execution_count": null,
   "metadata": {},
   "outputs": [],
   "source": [
    "tree = RandomForestRegressor()\n",
    "tree.fit(feats, labels)\n",
    "\n",
    "tree2 = xgb.XGBRegressor()\n",
    "tree2.fit(feats,labels)"
   ]
  },
  {
   "cell_type": "code",
   "execution_count": null,
   "metadata": {},
   "outputs": [],
   "source": [
    "# Proof of concept for first species!\n",
    "\n",
    "range = np.arange(10,501).transpose()\n",
    "sp_label = np.atleast_2d(quad1_t1[0,1:8])\n",
    "sp_repeated = np.repeat(sp_label,491,axis=0)\n",
    "print (sp_repeated)\n",
    "sp_1 = np.column_stack((sp_repeated,range))\n",
    "\n",
    "predictions_sp1 = tree.predict(sp_1)\n",
    "mpl.plot(range, predictions_sp1)"
   ]
  },
  {
   "cell_type": "code",
   "execution_count": null,
   "metadata": {},
   "outputs": [],
   "source": [
    "# first challenge: how to know which species is which - need to keep a list before encoding perhaps?\n",
    "list_species = species_list = []\n",
    "    for i in quad1_t1.index:\n",
    "        current = quad1_t1['sp'][i] \n",
    "        print (current)\n",
    "        if current not in species_list:\n",
    "                species_list.append(current)\n",
    "        quad1_t1['sp'][i]  = species_list.index(current)\n",
    "\n",
    "    print (len(species_list))\n",
    "    quad1_t1.head(30)\n",
    "    print(species_list)\n",
    "    quad1_t1.head()\n",
    "\n",
    "\n",
    "\n",
    "encoder= ce.BinaryEncoder(cols=['sp'],return_df=True)\n",
    "\n",
    "data_encoded=encoder.fit_transform(quad1_t1)\n",
    "\n",
    "data_encoded.head()\n",
    "\n",
    "# arange from 10 to 500\n",
    "\n",
    "# hstack"
   ]
  }
 ],
 "metadata": {
  "kernelspec": {
   "display_name": "xu-venv",
   "language": "python",
   "name": "python3"
  },
  "language_info": {
   "codemirror_mode": {
    "name": "ipython",
    "version": 3
   },
   "file_extension": ".py",
   "mimetype": "text/x-python",
   "name": "python",
   "nbconvert_exporter": "python",
   "pygments_lexer": "ipython3",
   "version": "3.8.9"
  },
  "orig_nbformat": 4,
  "vscode": {
   "interpreter": {
    "hash": "74ea42a2acbac2542a5ba28118d5ac45aa30cdd1086d6bdd4fc2eb17ce0fd824"
   }
  }
 },
 "nbformat": 4,
 "nbformat_minor": 2
}
