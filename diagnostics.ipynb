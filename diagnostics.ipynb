{
 "cells": [
  {
   "cell_type": "markdown",
   "metadata": {},
   "source": [
    "**Extracting diagnostic information on species growth!**\n",
    "Method: \n",
    "1) TRAIN the model on all data from the census.\n",
    "2) For each species present, create a dataset where all the trees are of that one species and every DBH from 10 to 500 is represented.\n",
    "3) Use this dataset as a test set.\n",
    "4) Instead of calculating a loss function, plot the output as a function of the DBH input!"
   ]
  },
  {
   "cell_type": "code",
   "execution_count": 33,
   "metadata": {},
   "outputs": [],
   "source": [
    "import numpy as np\n",
    "import scipy as sp\n",
    "import pandas as pd\n",
    "import torch\n",
    "import torch.nn as nn\n",
    "import torch.optim as optim\n",
    "import torch.nn.functional as F\n",
    "import sklearn\n",
    "from sklearn.model_selection import train_test_split\n",
    "from sklearn.ensemble import RandomForestRegressor\n",
    "from sklearn.model_selection import RepeatedKFold\n",
    "from sklearn.model_selection import cross_val_score\n",
    "from sklearn.metrics import r2_score\n",
    "import category_encoders as ce\n",
    "import xgboost as xgb\n",
    "import matplotlib.pyplot as mpl\n",
    "import data_processing\n",
    "import importlib"
   ]
  },
  {
   "cell_type": "code",
   "execution_count": 46,
   "metadata": {},
   "outputs": [
    {
     "name": "stderr",
     "output_type": "stream",
     "text": [
      "/Users/dylanvanbramer/indresearch/xu/deep_learning/algorithm_attempts/data_processing.py:24: DtypeWarning: Columns (14,16) have mixed types. Specify dtype option on import or set low_memory=False.\n",
      "  raw_data = pd.read_csv(file_path)\n"
     ]
    },
    {
     "name": "stdout",
     "output_type": "stream",
     "text": [
      "data-t1 is<class 'pandas.core.frame.DataFrame'>\n"
     ]
    },
    {
     "name": "stderr",
     "output_type": "stream",
     "text": [
      "/Users/dylanvanbramer/indresearch/xu/deep_learning/algorithm_attempts/data_processing.py:24: DtypeWarning: Columns (14,16) have mixed types. Specify dtype option on import or set low_memory=False.\n",
      "  raw_data = pd.read_csv(file_path)\n"
     ]
    },
    {
     "name": "stdout",
     "output_type": "stream",
     "text": [
      "data-t2 is<class 'pandas.core.frame.DataFrame'>\n",
      "<class 'pandas.core.frame.DataFrame'>\n",
      "ds combined clean isEmpty DataFrame\n",
      "Columns: [treeID1, sp_0, sp_1, sp_2, sp_3, sp_4, sp_5, sp_6, sp_7, gx, gy, dbh1, Unnamed: 0, treeID, stemID, tag, StemTag, sp, quadrat, gx, gy, MeasureID, CensusID, dbh, pom, hom, ExactDate, DFstatus, codes, nostems, date, status, agb]\n",
      "Index: []\n",
      "\n",
      "[0 rows x 33 columns]\n",
      "[]\n"
     ]
    },
    {
     "ename": "ValueError",
     "evalue": "With n_samples=0, test_size=0.3 and train_size=None, the resulting train set will be empty. Adjust any of the aforementioned parameters.",
     "output_type": "error",
     "traceback": [
      "\u001b[0;31m---------------------------------------------------------------------------\u001b[0m",
      "\u001b[0;31mValueError\u001b[0m                                Traceback (most recent call last)",
      "Cell \u001b[0;32mIn[46], line 4\u001b[0m\n\u001b[1;32m      2\u001b[0m importlib\u001b[39m.\u001b[39mreload(data_processing)\n\u001b[1;32m      3\u001b[0m paths \u001b[39m=\u001b[39m (\u001b[39m\"\u001b[39m\u001b[39m/Users/dylanvanbramer/indresearch/xu/deep_learning/bci_census/bci_1985.csv\u001b[39m\u001b[39m\"\u001b[39m,\u001b[39m\"\u001b[39m\u001b[39m/Users/dylanvanbramer/indresearch/xu/deep_learning/bci_census/bci_1990.csv\u001b[39m\u001b[39m\"\u001b[39m)\n\u001b[0;32m----> 4\u001b[0m feats, labels, test_ids, test_feats \u001b[39m=\u001b[39m data_processing\u001b[39m.\u001b[39;49mclean(paths, num_quads\u001b[39m=\u001b[39;49m\u001b[39m400\u001b[39;49m)\n",
      "File \u001b[0;32m~/indresearch/xu/deep_learning/algorithm_attempts/data_processing.py:124\u001b[0m, in \u001b[0;36mclean\u001b[0;34m(file_paths, num_quads, split_prop)\u001b[0m\n\u001b[1;32m    122\u001b[0m data_t1, data_t2 \u001b[39m=\u001b[39m encode_drop_null(data_t1, data_t2)\n\u001b[1;32m    123\u001b[0m data_t2 \u001b[39m=\u001b[39m growth_labels(data_t1, data_t2)\n\u001b[0;32m--> 124\u001b[0m \u001b[39mreturn\u001b[39;00m split(data_t1, data_t2, split_prop)\n",
      "File \u001b[0;32m~/indresearch/xu/deep_learning/algorithm_attempts/data_processing.py:84\u001b[0m, in \u001b[0;36msplit\u001b[0;34m(t1, t2, split_prop)\u001b[0m\n\u001b[1;32m     82\u001b[0m \u001b[39mdef\u001b[39;00m \u001b[39msplit\u001b[39m(t1, t2, split_prop):\n\u001b[1;32m     83\u001b[0m     \u001b[39mprint\u001b[39m(t1)\n\u001b[0;32m---> 84\u001b[0m     X_train, X_test, y_train, y_test \u001b[39m=\u001b[39m train_test_split(\n\u001b[1;32m     85\u001b[0m         t1, t2, test_size\u001b[39m=\u001b[39;49msplit_prop)\n\u001b[1;32m     86\u001b[0m     feats \u001b[39m=\u001b[39m X_train[:, \u001b[39m1\u001b[39m:]\n\u001b[1;32m     87\u001b[0m     labels \u001b[39m=\u001b[39m y_train[:, \u001b[39m1\u001b[39m]\n",
      "File \u001b[0;32m~/indresearch/xu/xu/xu-venv/lib/python3.8/site-packages/sklearn/model_selection/_split.py:2562\u001b[0m, in \u001b[0;36mtrain_test_split\u001b[0;34m(test_size, train_size, random_state, shuffle, stratify, *arrays)\u001b[0m\n\u001b[1;32m   2559\u001b[0m arrays \u001b[39m=\u001b[39m indexable(\u001b[39m*\u001b[39marrays)\n\u001b[1;32m   2561\u001b[0m n_samples \u001b[39m=\u001b[39m _num_samples(arrays[\u001b[39m0\u001b[39m])\n\u001b[0;32m-> 2562\u001b[0m n_train, n_test \u001b[39m=\u001b[39m _validate_shuffle_split(\n\u001b[1;32m   2563\u001b[0m     n_samples, test_size, train_size, default_test_size\u001b[39m=\u001b[39;49m\u001b[39m0.25\u001b[39;49m\n\u001b[1;32m   2564\u001b[0m )\n\u001b[1;32m   2566\u001b[0m \u001b[39mif\u001b[39;00m shuffle \u001b[39mis\u001b[39;00m \u001b[39mFalse\u001b[39;00m:\n\u001b[1;32m   2567\u001b[0m     \u001b[39mif\u001b[39;00m stratify \u001b[39mis\u001b[39;00m \u001b[39mnot\u001b[39;00m \u001b[39mNone\u001b[39;00m:\n",
      "File \u001b[0;32m~/indresearch/xu/xu/xu-venv/lib/python3.8/site-packages/sklearn/model_selection/_split.py:2236\u001b[0m, in \u001b[0;36m_validate_shuffle_split\u001b[0;34m(n_samples, test_size, train_size, default_test_size)\u001b[0m\n\u001b[1;32m   2233\u001b[0m n_train, n_test \u001b[39m=\u001b[39m \u001b[39mint\u001b[39m(n_train), \u001b[39mint\u001b[39m(n_test)\n\u001b[1;32m   2235\u001b[0m \u001b[39mif\u001b[39;00m n_train \u001b[39m==\u001b[39m \u001b[39m0\u001b[39m:\n\u001b[0;32m-> 2236\u001b[0m     \u001b[39mraise\u001b[39;00m \u001b[39mValueError\u001b[39;00m(\n\u001b[1;32m   2237\u001b[0m         \u001b[39m\"\u001b[39m\u001b[39mWith n_samples=\u001b[39m\u001b[39m{}\u001b[39;00m\u001b[39m, test_size=\u001b[39m\u001b[39m{}\u001b[39;00m\u001b[39m and train_size=\u001b[39m\u001b[39m{}\u001b[39;00m\u001b[39m, the \u001b[39m\u001b[39m\"\u001b[39m\n\u001b[1;32m   2238\u001b[0m         \u001b[39m\"\u001b[39m\u001b[39mresulting train set will be empty. Adjust any of the \u001b[39m\u001b[39m\"\u001b[39m\n\u001b[1;32m   2239\u001b[0m         \u001b[39m\"\u001b[39m\u001b[39maforementioned parameters.\u001b[39m\u001b[39m\"\u001b[39m\u001b[39m.\u001b[39mformat(n_samples, test_size, train_size)\n\u001b[1;32m   2240\u001b[0m     )\n\u001b[1;32m   2242\u001b[0m \u001b[39mreturn\u001b[39;00m n_train, n_test\n",
      "\u001b[0;31mValueError\u001b[0m: With n_samples=0, test_size=0.3 and train_size=None, the resulting train set will be empty. Adjust any of the aforementioned parameters."
     ]
    }
   ],
   "source": [
    "# attempt to use data processing script!\n",
    "importlib.reload(data_processing)\n",
    "paths = (\"/Users/dylanvanbramer/indresearch/xu/deep_learning/bci_census/bci_1985.csv\",\"/Users/dylanvanbramer/indresearch/xu/deep_learning/bci_census/bci_1990.csv\")\n",
    "feats, labels, test_ids, test_feats = data_processing.clean(paths, num_quads=400)\n"
   ]
  },
  {
   "cell_type": "code",
   "execution_count": null,
   "metadata": {},
   "outputs": [],
   "source": []
  },
  {
   "cell_type": "code",
   "execution_count": 37,
   "metadata": {},
   "outputs": [
    {
     "ename": "NameError",
     "evalue": "name 'feats' is not defined",
     "output_type": "error",
     "traceback": [
      "\u001b[0;31m---------------------------------------------------------------------------\u001b[0m",
      "\u001b[0;31mNameError\u001b[0m                                 Traceback (most recent call last)",
      "Cell \u001b[0;32mIn[37], line 2\u001b[0m\n\u001b[1;32m      1\u001b[0m tree \u001b[39m=\u001b[39m RandomForestRegressor()\n\u001b[0;32m----> 2\u001b[0m tree\u001b[39m.\u001b[39mfit(feats, labels)\n\u001b[1;32m      4\u001b[0m tree2 \u001b[39m=\u001b[39m xgb\u001b[39m.\u001b[39mXGBRegressor()\n\u001b[1;32m      5\u001b[0m tree2\u001b[39m.\u001b[39mfit(feats,labels)\n",
      "\u001b[0;31mNameError\u001b[0m: name 'feats' is not defined"
     ]
    }
   ],
   "source": [
    "tree = RandomForestRegressor()\n",
    "tree.fit(feats, labels)\n",
    "\n",
    "tree2 = xgb.XGBRegressor()\n",
    "tree2.fit(feats,labels)"
   ]
  },
  {
   "cell_type": "code",
   "execution_count": null,
   "metadata": {},
   "outputs": [],
   "source": [
    "# Proof of concept for first species!\n",
    "\n",
    "range = np.arange(10,501).transpose()\n",
    "sp_label = np.atleast_2d(quad1_t1[0,1:8])\n",
    "sp_repeated = np.repeat(sp_label,491,axis=0)\n",
    "print (sp_repeated)\n",
    "sp_1 = np.column_stack((sp_repeated,range))\n",
    "\n",
    "predictions_sp1 = tree.predict(sp_1)\n",
    "mpl.plot(range, predictions_sp1)"
   ]
  },
  {
   "cell_type": "code",
   "execution_count": null,
   "metadata": {},
   "outputs": [],
   "source": [
    "# first challenge: how to know which species is which - need to keep a list before encoding perhaps?\n",
    "list_species = species_list = []\n",
    "for i in quad1_t1.index:\n",
    "    current = quad1_t1['sp'][i] \n",
    "    print (current)\n",
    "    if current not in species_list:\n",
    "            species_list.append(current)\n",
    "    quad1_t1['sp'][i]  = species_list.index(current)\n",
    "\n",
    "    print (len(species_list))\n",
    "    quad1_t1.head(30)\n",
    "    print(species_list)\n",
    "    quad1_t1.head()\n",
    "\n",
    "\n",
    "\n",
    "encoder= ce.BinaryEncoder(cols=['sp'],return_df=True)\n",
    "\n",
    "data_encoded=encoder.fit_transform(quad1_t1)\n",
    "\n",
    "data_encoded.head()\n",
    "\n",
    "# arange from 10 to 500\n",
    "\n",
    "# hstack"
   ]
  }
 ],
 "metadata": {
  "kernelspec": {
   "display_name": "xu-venv",
   "language": "python",
   "name": "python3"
  },
  "language_info": {
   "codemirror_mode": {
    "name": "ipython",
    "version": 3
   },
   "file_extension": ".py",
   "mimetype": "text/x-python",
   "name": "python",
   "nbconvert_exporter": "python",
   "pygments_lexer": "ipython3",
   "version": "3.8.9 (default, Oct 26 2021, 07:25:54) \n[Clang 13.0.0 (clang-1300.0.29.30)]"
  },
  "orig_nbformat": 4,
  "vscode": {
   "interpreter": {
    "hash": "74ea42a2acbac2542a5ba28118d5ac45aa30cdd1086d6bdd4fc2eb17ce0fd824"
   }
  }
 },
 "nbformat": 4,
 "nbformat_minor": 2
}
