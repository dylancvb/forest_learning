{
 "cells": [
  {
   "attachments": {},
   "cell_type": "markdown",
   "metadata": {},
   "source": [
    "**CREATING DISTANCE MATRICES**"
   ]
  },
  {
   "cell_type": "code",
   "execution_count": 10,
   "metadata": {},
   "outputs": [],
   "source": [
    "import numpy as np\n",
    "import pandas as pd\n",
    "import scipy as sp\n",
    "import torch\n",
    "import torch.nn as nn\n",
    "import torch.optim as optim\n",
    "import torch.nn.functional as F\n",
    "import sklearn\n",
    "from sklearn.model_selection import train_test_split\n",
    "from sklearn.tree import DecisionTreeRegressor\n",
    "from sklearn.metrics.pairwise import euclidean_distances\n",
    "import category_encoders as ce\n",
    "import xgboost as xgb\n"
   ]
  },
  {
   "cell_type": "code",
   "execution_count": 11,
   "metadata": {},
   "outputs": [
    {
     "name": "stderr",
     "output_type": "stream",
     "text": [
      "/var/folders/zf/kbwgwbdd4gjfhdxc9cnw8qgm0000gn/T/ipykernel_31174/3378070634.py:2: DtypeWarning: Columns (14,16) have mixed types. Specify dtype option on import or set low_memory=False.\n",
      "  raw_data_t1 = pd.read_csv(\"/Users/dylanvanbramer/indresearch/xu/deep_learning/bci_census/bci_1985.csv\")\n",
      "/var/folders/zf/kbwgwbdd4gjfhdxc9cnw8qgm0000gn/T/ipykernel_31174/3378070634.py:3: DtypeWarning: Columns (14,16) have mixed types. Specify dtype option on import or set low_memory=False.\n",
      "  raw_data_t2 = pd.read_csv(\"/Users/dylanvanbramer/indresearch/xu/deep_learning/bci_census/bci_1990.csv\")\n"
     ]
    }
   ],
   "source": [
    "\n",
    "# load all data\n",
    "raw_data_t1 = pd.read_csv(\"/Users/dylanvanbramer/indresearch/xu/deep_learning/bci_census/bci_1985.csv\")\n",
    "raw_data_t2 = pd.read_csv(\"/Users/dylanvanbramer/indresearch/xu/deep_learning/bci_census/bci_1990.csv\")\n",
    "\n",
    "# load the first quadrat that we will be working with\n",
    "quad1_t1 = raw_data_t1.loc[raw_data_t1['quadrat']==1]\n",
    "quad1_t2 = raw_data_t2.loc[raw_data_t2['quadrat']==1]\n",
    "\n",
    "\n"
   ]
  },
  {
   "cell_type": "code",
   "execution_count": 12,
   "metadata": {},
   "outputs": [],
   "source": [
    "# we only care about the tree IDs and DBHs of quad1_t2\n",
    "expected_labels = quad1_t2[['treeID', 'dbh']]\n",
    "expected_labels = expected_labels.rename(columns={\"dbh\": \"dbh2\", \"treeID\": \"treeID2\"})\n",
    "\n",
    "#quad1_t1.head()\n",
    "# simplify the data to have less features\n",
    "quad1_t1 = quad1_t1[['treeID', 'sp', 'gx', 'gy', 'dbh']]\n",
    "quad1_t1 = quad1_t1.rename(columns={\"dbh\": \"dbh1\", \"treeID\":\"treeID1\"})\n",
    "\n"
   ]
  },
  {
   "cell_type": "code",
   "execution_count": 13,
   "metadata": {},
   "outputs": [],
   "source": [
    "encoder= ce.BinaryEncoder(cols=['sp'],return_df=True)\n",
    "quad1_t1 = encoder.fit_transform(quad1_t1)\n",
    "df_combined = pd.concat([quad1_t1, expected_labels], axis=1)\n",
    "\n",
    "# Drop rows with any NaN values\n",
    "df_combined_clean = df_combined.dropna()\n",
    "\n",
    "# Now has more values because species is encoded to 7 different categories\n",
    "\n"
   ]
  },
  {
   "cell_type": "code",
   "execution_count": 14,
   "metadata": {},
   "outputs": [],
   "source": [
    "# Separate the cleaned DataFrame and labels\n",
    "df_clean = df_combined_clean[quad1_t1.columns]\n",
    "labels_clean = df_combined_clean[expected_labels.columns]\n",
    "\n",
    "quad1_t1 = df_clean.to_numpy()\n",
    "expected_labels = labels_clean.to_numpy()\n",
    "\n",
    "quad1_t1 = quad1_t1.astype(np.float32)\n",
    "expected_labels = expected_labels.astype(np.float32)"
   ]
  },
  {
   "cell_type": "code",
   "execution_count": 15,
   "metadata": {},
   "outputs": [],
   "source": [
    "#ids = quad1_t1[:,0]\n",
    "#x_coordinates = quad1_t1[:, 8]  \n",
    "#y_coordinates = quad1_t1[:, 9]\n",
    "#coord_matrix = np.column_stack((x_coordinates, y_coordinates))\n",
    "\n",
    "#tree1 = quad1_t1[0,8:10].reshape(1,-1)\n",
    "#distances_matrix_1 = euclidean_distances(tree1, coord_matrix)\n",
    "\n",
    "#sorted_indices = np.argsort(distances_matrix_1, axis = 1)\n",
    "#sorted_distances = np.sort(distances_matrix_1, axis=1)\n",
    "\n",
    "#sorted_matrix = np.column_stack(sorted_indices, sorted_distances)\n",
    "#sorted_indices_matrix = np.argsort(distances_matrix, axis=1)\n",
    "#sorted_indices_matrix = sorted_indices_matrix[:, :51]\n",
    "\n",
    "#sorted_distances_matrix = ids[:, np.newaxis].repeat(51, axis=1)\n",
    "#sorted_distances_matrix = np.column_stack((sorted_distances_matrix, sorted_indices_matrix))\n",
    "\n",
    "#sorted_distances_matrix = sorted_distances_matrix[np.argsort(sorted_distances_matrix[:, 1:])]"
   ]
  },
  {
   "cell_type": "code",
   "execution_count": 16,
   "metadata": {},
   "outputs": [],
   "source": [
    "#np.sort(distances_matrix_1, axis=1)\n",
    "\n",
    "#sorted_matrix = np.column_stack(sorted_indices, sorted_distances)\n",
    "#sorted_indices_matrix = np.argsort(distances_matrix, axis=1)\n",
    "#sorted_indices_matrix = sorted_indices_matrix[:, :51]\n",
    "\n",
    "#sorted_distances_matrix = ids[:, np.newaxis].repeat(51, axis=1)\n",
    "#sorted_distances_matrix = np.column_stack((sorted_distances_matrix, sorted_indices_matrix))\n",
    "\n",
    "#sorted_distances_matrix = sorted_distances_matrix[np.argsort(sorted_distances_matrix[:, 1:])]"
   ]
  },
  {
   "attachments": {},
   "cell_type": "markdown",
   "metadata": {},
   "source": [
    "BELOW: attempt with just tree 1"
   ]
  },
  {
   "cell_type": "code",
   "execution_count": 17,
   "metadata": {},
   "outputs": [],
   "source": [
    "\n",
    "\n",
    "ids = quad1_t1[:,0]\n",
    "x_coordinates = quad1_t1[:, 8]  \n",
    "y_coordinates = quad1_t1[:, 9]\n",
    "coord_matrix = np.column_stack((x_coordinates, y_coordinates))\n",
    "\n",
    "tree2 = sp.spatial.KDTree(coord_matrix)"
   ]
  },
  {
   "cell_type": "code",
   "execution_count": 18,
   "metadata": {},
   "outputs": [],
   "source": [
    "focal_tree_loc = coord_matrix[0]\n",
    "dist, ind = tree2.query(focal_tree_loc, k =50)"
   ]
  },
  {
   "cell_type": "code",
   "execution_count": 19,
   "metadata": {},
   "outputs": [],
   "source": [
    "nn_ids = ids[ind]\n",
    "#this is just the nearest neighbors of the first tree. we want to do this for each tree."
   ]
  },
  {
   "attachments": {},
   "cell_type": "markdown",
   "metadata": {},
   "source": [
    "BELOW: attempting with LOOP - works great!"
   ]
  },
  {
   "cell_type": "code",
   "execution_count": 20,
   "metadata": {},
   "outputs": [],
   "source": [
    "nn_dist_matrix = np.zeros((len(coord_matrix),50))\n",
    "nn_ind_matrix = np.zeros((len(coord_matrix),50))"
   ]
  },
  {
   "cell_type": "code",
   "execution_count": 21,
   "metadata": {},
   "outputs": [],
   "source": [
    "for i, tree in enumerate(coord_matrix):\n",
    "    dist2, ind2 = tree2.query(tree, k=50)\n",
    "    nn_ind_matrix[i] = ids[ind2]\n",
    "    nn_dist_matrix[i]= dist2\n",
    "\n",
    "\n",
    "  # if we wanted to just use the ids instead of the distances of the nearest \n",
    "  # neighbors (mostly just helps with making sure the algorithm is running \n",
    "  # consistently, so used during testing), we would set ..[i] = ids[ind2]"
   ]
  },
  {
   "attachments": {},
   "cell_type": "markdown",
   "metadata": {},
   "source": [
    "BELOW: trying to increase efficiency by using numpy broadcasting isntead of loops. will get back to this later on because it adds another dimension such that the data is nx1x50 instead of nx50."
   ]
  },
  {
   "cell_type": "code",
   "execution_count": 22,
   "metadata": {},
   "outputs": [],
   "source": [
    "#dist3, ind3 = tree2.query(coord_matrix, k=50)\n",
    "#ind_array = np.arange(len(coord_matrix))\n",
    "\n",
    "#nn_dist_matrix2 = dist3[ind_array[:,None],:]\n",
    "#before = ids[ind3]\n",
    "#nn_dist_matrix3 = before[ind_array[:,None],:]\n",
    "#ADDS ANOTHER DIMENSION\n",
    "#np.zeros((len(coord_matrix),50))\n",
    "#nn_dist_matrix2[ind_array] = ids[ind3]"
   ]
  },
  {
   "attachments": {},
   "cell_type": "markdown",
   "metadata": {},
   "source": [
    "Next: add the focal tree's species and dbh. This model will consider the focal tree's features as well as the distances from other trees. It will NOT consider the species or DBH of those other trees yet. I am removing the raw x and y coordinates here because distance is far more important."
   ]
  },
  {
   "cell_type": "code",
   "execution_count": 23,
   "metadata": {},
   "outputs": [],
   "source": [
    "dbhs = quad1_t1[:, 10]\n",
    "species = quad1_t1[:,1:8]\n",
    "features = np.column_stack([ids, dbhs])\n",
    "#print (np.shape(features))\n",
    "#print (np.shape(species))\n",
    "features = np.column_stack([features, species, nn_dist_matrix])\n",
    "#print (np.shape(features))"
   ]
  },
  {
   "attachments": {},
   "cell_type": "markdown",
   "metadata": {},
   "source": [
    "Actually first, let's train a regression tree on this data and see how it works! Ideally better than the error of the intrinsic growth using the same model (in attempt1nn)"
   ]
  },
  {
   "cell_type": "code",
   "execution_count": 24,
   "metadata": {},
   "outputs": [],
   "source": [
    "kdtree = DecisionTreeRegressor()\n",
    "X_train, X_test, y_train, y_test = train_test_split(features, expected_labels, test_size=0.3)\n"
   ]
  },
  {
   "cell_type": "code",
   "execution_count": 25,
   "metadata": {},
   "outputs": [
    {
     "data": {
      "text/html": [
       "<style>#sk-container-id-1 {color: black;background-color: white;}#sk-container-id-1 pre{padding: 0;}#sk-container-id-1 div.sk-toggleable {background-color: white;}#sk-container-id-1 label.sk-toggleable__label {cursor: pointer;display: block;width: 100%;margin-bottom: 0;padding: 0.3em;box-sizing: border-box;text-align: center;}#sk-container-id-1 label.sk-toggleable__label-arrow:before {content: \"▸\";float: left;margin-right: 0.25em;color: #696969;}#sk-container-id-1 label.sk-toggleable__label-arrow:hover:before {color: black;}#sk-container-id-1 div.sk-estimator:hover label.sk-toggleable__label-arrow:before {color: black;}#sk-container-id-1 div.sk-toggleable__content {max-height: 0;max-width: 0;overflow: hidden;text-align: left;background-color: #f0f8ff;}#sk-container-id-1 div.sk-toggleable__content pre {margin: 0.2em;color: black;border-radius: 0.25em;background-color: #f0f8ff;}#sk-container-id-1 input.sk-toggleable__control:checked~div.sk-toggleable__content {max-height: 200px;max-width: 100%;overflow: auto;}#sk-container-id-1 input.sk-toggleable__control:checked~label.sk-toggleable__label-arrow:before {content: \"▾\";}#sk-container-id-1 div.sk-estimator input.sk-toggleable__control:checked~label.sk-toggleable__label {background-color: #d4ebff;}#sk-container-id-1 div.sk-label input.sk-toggleable__control:checked~label.sk-toggleable__label {background-color: #d4ebff;}#sk-container-id-1 input.sk-hidden--visually {border: 0;clip: rect(1px 1px 1px 1px);clip: rect(1px, 1px, 1px, 1px);height: 1px;margin: -1px;overflow: hidden;padding: 0;position: absolute;width: 1px;}#sk-container-id-1 div.sk-estimator {font-family: monospace;background-color: #f0f8ff;border: 1px dotted black;border-radius: 0.25em;box-sizing: border-box;margin-bottom: 0.5em;}#sk-container-id-1 div.sk-estimator:hover {background-color: #d4ebff;}#sk-container-id-1 div.sk-parallel-item::after {content: \"\";width: 100%;border-bottom: 1px solid gray;flex-grow: 1;}#sk-container-id-1 div.sk-label:hover label.sk-toggleable__label {background-color: #d4ebff;}#sk-container-id-1 div.sk-serial::before {content: \"\";position: absolute;border-left: 1px solid gray;box-sizing: border-box;top: 0;bottom: 0;left: 50%;z-index: 0;}#sk-container-id-1 div.sk-serial {display: flex;flex-direction: column;align-items: center;background-color: white;padding-right: 0.2em;padding-left: 0.2em;position: relative;}#sk-container-id-1 div.sk-item {position: relative;z-index: 1;}#sk-container-id-1 div.sk-parallel {display: flex;align-items: stretch;justify-content: center;background-color: white;position: relative;}#sk-container-id-1 div.sk-item::before, #sk-container-id-1 div.sk-parallel-item::before {content: \"\";position: absolute;border-left: 1px solid gray;box-sizing: border-box;top: 0;bottom: 0;left: 50%;z-index: -1;}#sk-container-id-1 div.sk-parallel-item {display: flex;flex-direction: column;z-index: 1;position: relative;background-color: white;}#sk-container-id-1 div.sk-parallel-item:first-child::after {align-self: flex-end;width: 50%;}#sk-container-id-1 div.sk-parallel-item:last-child::after {align-self: flex-start;width: 50%;}#sk-container-id-1 div.sk-parallel-item:only-child::after {width: 0;}#sk-container-id-1 div.sk-dashed-wrapped {border: 1px dashed gray;margin: 0 0.4em 0.5em 0.4em;box-sizing: border-box;padding-bottom: 0.4em;background-color: white;}#sk-container-id-1 div.sk-label label {font-family: monospace;font-weight: bold;display: inline-block;line-height: 1.2em;}#sk-container-id-1 div.sk-label-container {text-align: center;}#sk-container-id-1 div.sk-container {/* jupyter's `normalize.less` sets `[hidden] { display: none; }` but bootstrap.min.css set `[hidden] { display: none !important; }` so we also need the `!important` here to be able to override the default hidden behavior on the sphinx rendered scikit-learn.org. See: https://github.com/scikit-learn/scikit-learn/issues/21755 */display: inline-block !important;position: relative;}#sk-container-id-1 div.sk-text-repr-fallback {display: none;}</style><div id=\"sk-container-id-1\" class=\"sk-top-container\"><div class=\"sk-text-repr-fallback\"><pre>DecisionTreeRegressor()</pre><b>In a Jupyter environment, please rerun this cell to show the HTML representation or trust the notebook. <br />On GitHub, the HTML representation is unable to render, please try loading this page with nbviewer.org.</b></div><div class=\"sk-container\" hidden><div class=\"sk-item\"><div class=\"sk-estimator sk-toggleable\"><input class=\"sk-toggleable__control sk-hidden--visually\" id=\"sk-estimator-id-1\" type=\"checkbox\" checked><label for=\"sk-estimator-id-1\" class=\"sk-toggleable__label sk-toggleable__label-arrow\">DecisionTreeRegressor</label><div class=\"sk-toggleable__content\"><pre>DecisionTreeRegressor()</pre></div></div></div></div></div>"
      ],
      "text/plain": [
       "DecisionTreeRegressor()"
      ]
     },
     "execution_count": 25,
     "metadata": {},
     "output_type": "execute_result"
    }
   ],
   "source": [
    "# don't include the tree ID tags as numerical data, then train.\n",
    "kdtree.fit(X_train[:,1:], y_train[:,1])"
   ]
  },
  {
   "cell_type": "code",
   "execution_count": 26,
   "metadata": {},
   "outputs": [],
   "source": [
    "# test the KD tree\n",
    "test_ids = X_test[:, 0]  \n",
    "preds = kdtree.predict(X_test[:,1:])\n",
    "preds_matrix = np.column_stack((test_ids, preds))"
   ]
  },
  {
   "cell_type": "code",
   "execution_count": 27,
   "metadata": {},
   "outputs": [
    {
     "name": "stdout",
     "output_type": "stream",
     "text": [
      "1570.642857142857\n"
     ]
    }
   ],
   "source": [
    "# how well does it work?!\n",
    "test_error = sklearn.metrics.mean_squared_error(y_test[:,1], preds)\n",
    "print(test_error)"
   ]
  },
  {
   "attachments": {},
   "cell_type": "markdown",
   "metadata": {},
   "source": [
    "Error is still quite high, BUT we can try to change that by adding more test data soon. Still training on a very small amount of data (only 100 points)"
   ]
  },
  {
   "attachments": {},
   "cell_type": "markdown",
   "metadata": {},
   "source": [
    "NEXT, use a loop to add the dbh of each tree. To do this, must add extra dimensions. Will not species yet because it will add many more dimensions. "
   ]
  },
  {
   "cell_type": "code",
   "execution_count": 44,
   "metadata": {},
   "outputs": [
    {
     "name": "stdout",
     "output_type": "stream",
     "text": [
      "8224.0\n"
     ]
    },
    {
     "ename": "IndexError",
     "evalue": "only integers, slices (`:`), ellipsis (`...`), numpy.newaxis (`None`) and integer or boolean arrays are valid indices",
     "output_type": "error",
     "traceback": [
      "\u001b[0;31m---------------------------------------------------------------------------\u001b[0m",
      "\u001b[0;31mIndexError\u001b[0m                                Traceback (most recent call last)",
      "Cell \u001b[0;32mIn[44], line 11\u001b[0m\n\u001b[1;32m      9\u001b[0m \u001b[39mfor\u001b[39;00m j \u001b[39min\u001b[39;00m (relevant_inds\u001b[39m.\u001b[39mtolist()):\n\u001b[1;32m     10\u001b[0m     \u001b[39mprint\u001b[39m (j)\n\u001b[0;32m---> 11\u001b[0m     corresp_dbhs[j] \u001b[39m=\u001b[39m quad1_t1[j,\u001b[39m10\u001b[39;49m]\n\u001b[1;32m     12\u001b[0m \u001b[39mprint\u001b[39m(corresp_dbhs)\n\u001b[1;32m     13\u001b[0m \u001b[39m# corresp_dbhs = quad1_t1[relevant_inds,10]\u001b[39;00m\n",
      "\u001b[0;31mIndexError\u001b[0m: only integers, slices (`:`), ellipsis (`...`), numpy.newaxis (`None`) and integer or boolean arrays are valid indices"
     ]
    }
   ],
   "source": [
    "for i in range(50):\n",
    "    #first find the dbhs associated with those tree IDs - need to use the \n",
    "    #information from ids[ind], as the distances do not tell us which tree they correspond to.\n",
    "    \n",
    "    #below are the indices of the 50 closest trees to tree i\n",
    "    relevant_inds = nn_ind_matrix[:,i]\n",
    "    n = np.shape(nn_ind_matrix)[0]\n",
    "    corresp_dbhs = np.zeros(n)\n",
    "    for j in np.nditer(relevant_inds):\n",
    "        # turn j into int\n",
    "        corresp_dbhs[j] = quad1_t1[j,10]\n",
    "    print(corresp_dbhs)\n",
    "    # corresp_dbhs = quad1_t1[relevant_inds,10]\n",
    "\n",
    "\n",
    "    feat_w_dbh = np.insert(features, 10+i, corresp_dbhs, axis =1 )\n",
    "\n",
    "    \n",
    "\n"
   ]
  },
  {
   "cell_type": "code",
   "execution_count": null,
   "metadata": {},
   "outputs": [],
   "source": []
  },
  {
   "attachments": {},
   "cell_type": "markdown",
   "metadata": {},
   "source": [
    "just numerically , stop using encoding"
   ]
  }
 ],
 "metadata": {
  "kernelspec": {
   "display_name": "xu-venv",
   "language": "python",
   "name": "python3"
  },
  "language_info": {
   "codemirror_mode": {
    "name": "ipython",
    "version": 3
   },
   "file_extension": ".py",
   "mimetype": "text/x-python",
   "name": "python",
   "nbconvert_exporter": "python",
   "pygments_lexer": "ipython3",
   "version": "3.8.9"
  },
  "orig_nbformat": 4,
  "vscode": {
   "interpreter": {
    "hash": "74ea42a2acbac2542a5ba28118d5ac45aa30cdd1086d6bdd4fc2eb17ce0fd824"
   }
  }
 },
 "nbformat": 4,
 "nbformat_minor": 2
}
